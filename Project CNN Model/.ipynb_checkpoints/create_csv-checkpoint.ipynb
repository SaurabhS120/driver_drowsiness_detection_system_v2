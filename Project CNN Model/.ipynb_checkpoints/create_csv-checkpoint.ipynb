{
 "cells": [
  {
   "cell_type": "markdown",
   "metadata": {},
   "source": [
    "We have 80000 images to train converted into 28x28 pixels images. so we will combine them into csv file which will reduce time dataset loading delay."
   ]
  },
  {
   "cell_type": "code",
   "execution_count": 1,
   "metadata": {},
   "outputs": [
    {
     "name": "stdout",
     "output_type": "stream",
     "text": [
      "close eye images count :  41946\n",
      "open eye images count :  42952\n",
      "file_names length :  84898\n",
      "lables length :  84898\n"
     ]
    }
   ],
   "source": [
    "import os\n",
    "from os import listdir\n",
    "import matplotlib as plt\n",
    "import numpy as np\n",
    "import tensorflow as tf\n",
    "\n",
    "path='mrlEyes_2018_01/'\n",
    "close_eyes_files=listdir(path+'close/')\n",
    "open_eyes_files=listdir(path+'open/')\n",
    "close_eyes_length=len(close_eyes_files)\n",
    "open_eyes_length=len(open_eyes_files)\n",
    "file_names=[]\n",
    "print('close eye images count : ',close_eyes_length)\n",
    "print('open eye images count : ',open_eyes_length)\n",
    "length=min(close_eyes_length,open_eyes_length)\n",
    "\n",
    "lables=[]\n",
    "\n",
    "for i in range(length):\n",
    "    file_names.append(path+'close/'+close_eyes_files[i])\n",
    "    lables.append(int(0))\n",
    "    file_names.append(path+'open/'+open_eyes_files[i])\n",
    "    lables.append(int(1))\n",
    "    \n",
    "for i in range(length,close_eyes_length):\n",
    "    file_names.append(path+'close/'+close_eyes_files[i])\n",
    "    lables.append(int(0))\n",
    "    \n",
    "for i in range(length,open_eyes_length):\n",
    "    file_names.append(path+'open/'+open_eyes_files[i])\n",
    "    lables.append(int(1))\n",
    "    \n",
    "print('file_names length : ',len(file_names))\n",
    "print('lables length : ',len(lables))\n",
    "\n",
    "lables = tf.reshape(lables, (-1))"
   ]
  },
  {
   "cell_type": "markdown",
   "metadata": {},
   "source": [
    "Save lables"
   ]
  },
  {
   "cell_type": "code",
   "execution_count": 2,
   "metadata": {},
   "outputs": [],
   "source": [
    "np.savetxt('open_close_eye_lables.txt',lables)"
   ]
  },
  {
   "cell_type": "markdown",
   "metadata": {},
   "source": [
    "Load images into array"
   ]
  },
  {
   "cell_type": "code",
   "execution_count": 3,
   "metadata": {},
   "outputs": [
    {
     "name": "stderr",
     "output_type": "stream",
     "text": [
      "100%|██████████████████████████████████████████████████████████████████████████| 84898/84898 [00:28<00:00, 2997.92it/s]\n"
     ]
    }
   ],
   "source": [
    "from matplotlib import image\n",
    "from matplotlib import pyplot\n",
    "import numpy as np\n",
    "import tensorflow as tf\n",
    "from tqdm import trange\n",
    "length=len(file_names)\n",
    "dataset=[]\n",
    "for i in trange(length):\n",
    "    # load image as pixel array\n",
    "    img=image.imread(fname=file_names[i])\n",
    "    \n",
    "    dataset.append(img)"
   ]
  },
  {
   "cell_type": "code",
   "execution_count": 4,
   "metadata": {},
   "outputs": [
    {
     "data": {
      "text/plain": [
       "(66560032, 3)"
      ]
     },
     "execution_count": 4,
     "metadata": {},
     "output_type": "execute_result"
    }
   ],
   "source": [
    "dataset=np.array(dataset)\n",
    "dataset=dataset.reshape(-1,3)\n",
    "dataset.shape\n"
   ]
  },
  {
   "cell_type": "code",
   "execution_count": 5,
   "metadata": {},
   "outputs": [
    {
     "name": "stderr",
     "output_type": "stream",
     "text": [
      "  0%|                                                                                     | 0/66560032 [00:00<?, ?it/s]<ipython-input-5-c6fd35d735cf>:4: RuntimeWarning: overflow encountered in ubyte_scalars\n",
      "  y=(x[0]+x[1]+x[2])/765\n",
      "100%|██████████████████████████████████████████████████████████████████| 66560032/66560032 [04:10<00:00, 265760.81it/s]\n"
     ]
    }
   ],
   "source": [
    "from tqdm import tqdm\n",
    "dataset1=[]\n",
    "for x in tqdm(dataset):\n",
    "    y=(x[0]+x[1]+x[2])/765\n",
    "    dataset1.append(y)\n",
    "dataset1=np.array(dataset1)\n",
    "dataset1.shape"
   ]
  },
  {
   "cell_type": "markdown",
   "metadata": {},
   "source": [
    "save as text"
   ]
  },
  {
   "cell_type": "code",
   "execution_count": 6,
   "metadata": {},
   "outputs": [],
   "source": [
    "np.savetxt('open_close_eye_images.txt',dataset1)"
   ]
  }
 ],
 "metadata": {
  "kernelspec": {
   "display_name": "Python 3",
   "language": "python",
   "name": "python3"
  },
  "language_info": {
   "codemirror_mode": {
    "name": "ipython",
    "version": 3
   },
   "file_extension": ".py",
   "mimetype": "text/x-python",
   "name": "python",
   "nbconvert_exporter": "python",
   "pygments_lexer": "ipython3",
   "version": "3.9.0"
  }
 },
 "nbformat": 4,
 "nbformat_minor": 2
}
